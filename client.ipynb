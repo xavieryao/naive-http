{
 "cells": [
  {
   "cell_type": "code",
   "execution_count": 4,
   "metadata": {},
   "outputs": [],
   "source": [
    "# A demo client for the naive HTTP file server\n",
    "import socket\n",
    "import time\n",
    "hostname = '166.111.5.228'\n",
    "port = 1234"
   ]
  },
  {
   "cell_type": "code",
   "execution_count": 5,
   "metadata": {},
   "outputs": [],
   "source": [
    "# TEST: simple TCP socket\n",
    "# create an INET, STREAMing socket\n",
    "s = socket.socket(socket.AF_INET, socket.SOCK_STREAM)\n",
    "# now connect to the naive HTTP file server\n",
    "s.connect((hostname, port))\n",
    "time.sleep(1)\n",
    "s.close()"
   ]
  },
  {
   "cell_type": "code",
   "execution_count": 21,
   "metadata": {},
   "outputs": [],
   "source": [
    "def send(msg):\n",
    "    s = socket.socket(socket.AF_INET, socket.SOCK_STREAM)\n",
    "    # now connect to the naive HTTP file server\n",
    "    s.connect((hostname, port))\n",
    "    \n",
    "    msg = msg.replace('\\n', '\\r\\n')\n",
    "    \n",
    "    data = msg.encode()\n",
    "    \n",
    "    assert('\\r\\n\\r\\n' in msg)\n",
    "    print(len(data))\n",
    "    \n",
    "    s.sendall(msg.encode())\n",
    "    time.sleep(1)\n",
    "    s.close()"
   ]
  },
  {
   "cell_type": "code",
   "execution_count": 39,
   "metadata": {},
   "outputs": [
    {
     "name": "stdout",
     "output_type": "stream",
     "text": [
      "23\n"
     ]
    }
   ],
   "source": [
    "send(\"\"\"GET /a.txt HTTP/1.1\n",
    "\n",
    "\"\"\")"
   ]
  },
  {
   "cell_type": "code",
   "execution_count": 74,
   "metadata": {},
   "outputs": [],
   "source": [
    "time.sleep?"
   ]
  },
  {
   "cell_type": "code",
   "execution_count": 36,
   "metadata": {},
   "outputs": [
    {
     "name": "stdout",
     "output_type": "stream",
     "text": [
      "1234616\n"
     ]
    }
   ],
   "source": [
    "send(\"\"\"POST /b.txt HTTP/1.1\n",
    "Content-Length: 1234567\n",
    "\n",
    "\"\"\" + 'b'*1234567)"
   ]
  },
  {
   "cell_type": "code",
   "execution_count": 31,
   "metadata": {},
   "outputs": [],
   "source": [
    "def upload(fn):\n",
    "    print(fn)\n",
    "    send(\"\"\"POST /{} HTTP/1.1\n",
    "Content-Length: 12345\n",
    "\n",
    "\"\"\".format(fn) + 'c'*12345)"
   ]
  },
  {
   "cell_type": "code",
   "execution_count": 2,
   "metadata": {},
   "outputs": [],
   "source": [
    "fns = ['a.txt', 'b.txt', 'c.txt', 'd.txt', 'e.txt', 'f.txt', 'g.txt']"
   ]
  },
  {
   "cell_type": "code",
   "execution_count": 40,
   "metadata": {},
   "outputs": [
    {
     "name": "stdout",
     "output_type": "stream",
     "text": [
      "a.txt\n",
      "c.txt\n",
      "b.txt\n",
      "12392\n",
      "12392\n",
      "12392\n",
      "e.txt\n",
      "d.txt\n",
      "12392\n",
      "f.txt\n",
      "12392\n",
      "12392\n",
      "g.txt\n",
      "12392\n"
     ]
    }
   ],
   "source": [
    "import multiprocessing as mp\n",
    "with mp.Pool(3) as pool:\n",
    "    pool.map(upload, fns)"
   ]
  },
  {
   "cell_type": "code",
   "execution_count": null,
   "metadata": {},
   "outputs": [],
   "source": []
  }
 ],
 "metadata": {
  "kernelspec": {
   "display_name": "Python 3",
   "language": "python",
   "name": "python3"
  },
  "language_info": {
   "codemirror_mode": {
    "name": "ipython",
    "version": 3
   },
   "file_extension": ".py",
   "mimetype": "text/x-python",
   "name": "python",
   "nbconvert_exporter": "python",
   "pygments_lexer": "ipython3",
   "version": "3.6.4"
  }
 },
 "nbformat": 4,
 "nbformat_minor": 2
}
