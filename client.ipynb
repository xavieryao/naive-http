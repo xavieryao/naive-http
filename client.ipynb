{
 "cells": [
  {
   "cell_type": "code",
   "execution_count": 22,
   "metadata": {},
   "outputs": [],
   "source": [
    "# A demo client for the naive HTTP file server\n",
    "import socket\n",
    "import time\n",
    "hostname = 'localhost'\n",
    "port = 1234"
   ]
  },
  {
   "cell_type": "code",
   "execution_count": 2,
   "metadata": {},
   "outputs": [],
   "source": [
    "# TEST: simple TCP socket\n",
    "# create an INET, STREAMing socket\n",
    "s = socket.socket(socket.AF_INET, socket.SOCK_STREAM)\n",
    "# now connect to the naive HTTP file server\n",
    "s.connect((hostname, port))\n",
    "s.close()"
   ]
  },
  {
   "cell_type": "code",
   "execution_count": 58,
   "metadata": {},
   "outputs": [],
   "source": [
    "def send(msg):\n",
    "    s = socket.socket(socket.AF_INET, socket.SOCK_STREAM)\n",
    "    # now connect to the naive HTTP file server\n",
    "    s.connect((hostname, port))\n",
    "    \n",
    "    msg = msg.replace('\\n', '\\r\\n')\n",
    "    msg += '\\r\\n'\n",
    "    \n",
    "    s.sendall(msg.encode())\n",
    "    \n",
    "    time.sleep(1)\n",
    "    s.close()"
   ]
  },
  {
   "cell_type": "code",
   "execution_count": 80,
   "metadata": {},
   "outputs": [],
   "source": [
    "send(\"\"\"POST /a.txt HTTP/1.1\n",
    "Content-Length: 4096\n",
    "\n",
    "\"\"\" + \"a\"*4096)"
   ]
  },
  {
   "cell_type": "code",
   "execution_count": 74,
   "metadata": {},
   "outputs": [],
   "source": [
    "time.sleep?"
   ]
  },
  {
   "cell_type": "code",
   "execution_count": null,
   "metadata": {},
   "outputs": [],
   "source": []
  }
 ],
 "metadata": {
  "kernelspec": {
   "display_name": "Python 3",
   "language": "python",
   "name": "python3"
  },
  "language_info": {
   "codemirror_mode": {
    "name": "ipython",
    "version": 3
   },
   "file_extension": ".py",
   "mimetype": "text/x-python",
   "name": "python",
   "nbconvert_exporter": "python",
   "pygments_lexer": "ipython3",
   "version": "3.6.4"
  }
 },
 "nbformat": 4,
 "nbformat_minor": 2
}
